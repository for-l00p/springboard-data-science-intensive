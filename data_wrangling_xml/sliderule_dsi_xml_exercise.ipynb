{
 "cells": [
  {
   "cell_type": "markdown",
   "metadata": {},
   "source": [
    "# XML example and exercise\n",
    "****\n",
    "+ study examples of accessing nodes in XML tree structure  \n",
    "+ work on exercise to be completed and submitted\n",
    "****\n",
    "+ reference: https://docs.python.org/2.7/library/xml.etree.elementtree.html\n",
    "+ data source: http://www.dbis.informatik.uni-goettingen.de/Mondial\n",
    "****"
   ]
  },
  {
   "cell_type": "code",
   "execution_count": 1,
   "metadata": {
    "collapsed": true
   },
   "outputs": [],
   "source": [
    "from xml.etree import ElementTree as ET"
   ]
  },
  {
   "cell_type": "markdown",
   "metadata": {},
   "source": [
    "## XML example\n",
    "\n",
    "+ for details about tree traversal and iterators, see https://docs.python.org/2.7/library/xml.etree.elementtree.html"
   ]
  },
  {
   "cell_type": "code",
   "execution_count": 2,
   "metadata": {
    "collapsed": true
   },
   "outputs": [],
   "source": [
    "document_tree = ET.parse( './data/mondial_database_less.xml' )"
   ]
  },
  {
   "cell_type": "code",
   "execution_count": 3,
   "metadata": {
    "collapsed": false
   },
   "outputs": [
    {
     "name": "stdout",
     "output_type": "stream",
     "text": [
      "Albania\n",
      "Greece\n",
      "Macedonia\n",
      "Serbia\n",
      "Montenegro\n",
      "Kosovo\n",
      "Andorra\n"
     ]
    }
   ],
   "source": [
    "# print names of all countries\n",
    "for child in document_tree.getroot():\n",
    "    print(child.find('name').text)"
   ]
  },
  {
   "cell_type": "code",
   "execution_count": 4,
   "metadata": {
    "collapsed": false
   },
   "outputs": [
    {
     "name": "stdout",
     "output_type": "stream",
     "text": [
      "* Albania:\n",
      "Tirana, Shkodër, Durrës, Vlorë, Elbasan, Korçë\n",
      "* Greece:\n",
      "Komotini, Kavala, Athina, Peiraias, Peristeri, Acharnes, Patra, Kozani, Kerkyra, Ioannina, Thessaloniki, Iraklio, Chania, Ermoupoli, Rhodes, Tripoli, Lamia, Chalkida, Larissa, Volos, Mytilini, Karyes\n",
      "* Macedonia:\n",
      "Skopje, Kumanovo\n",
      "* Serbia:\n",
      "Beograd, Novi Sad, Niš\n",
      "* Montenegro:\n",
      "Podgorica\n",
      "* Kosovo:\n",
      "Prishtine\n",
      "* Andorra:\n",
      "Andorra la Vella\n"
     ]
    }
   ],
   "source": [
    "# print names of all countries and their cities\n",
    "for element in document_tree.iterfind('country'):\n",
    "    print('* ' + element.find('name').text + ':',)\n",
    "    capitals_string = ''\n",
    "    for subelement in element.getiterator('city'):\n",
    "        capitals_string += subelement.find('name').text + ', '\n",
    "    print (capitals_string[:-2])"
   ]
  },
  {
   "cell_type": "markdown",
   "metadata": {},
   "source": [
    "****\n",
    "## XML exercise\n",
    "\n",
    "Using data in 'data/mondial_database.xml', the examples above, and refering to https://docs.python.org/2.7/library/xml.etree.elementtree.html, find\n",
    "\n",
    "1. 10 countries with the lowest infant mortality rates\n",
    "2. 10 cities with the largest population\n",
    "3. 10 ethnic groups with the largest overall populations (sum of best/latest estimates over all countries)\n",
    "4. name and country of a) longest river, b) largest lake and c) airport at highest elevation"
   ]
  },
  {
   "cell_type": "code",
   "execution_count": 5,
   "metadata": {
    "collapsed": false
   },
   "outputs": [],
   "source": [
    "document = ET.parse( './data/mondial_database.xml' )"
   ]
  },
  {
   "cell_type": "code",
   "execution_count": 6,
   "metadata": {
    "collapsed": true
   },
   "outputs": [],
   "source": [
    "import pandas as pd"
   ]
  },
  {
   "cell_type": "markdown",
   "metadata": {},
   "source": [
    "### 10 countries with the lowest infant mortality rates"
   ]
  },
  {
   "cell_type": "markdown",
   "metadata": {},
   "source": [
    "looking at the structure, the tag infant_mortality is under the country labels. To answer this question, I will step through the tree and pull out country and infant mortality into a structured variable, which can then be read into a DataFrame, so that easy sorting can be done."
   ]
  },
  {
   "cell_type": "code",
   "execution_count": 7,
   "metadata": {
    "collapsed": false
   },
   "outputs": [],
   "source": [
    "# create list of tuples of country, infant mortality pairs.\n",
    "data = []\n",
    "for element in document.iterfind('country'):\n",
    "    if element.find('name') is None:        \n",
    "        country = ''\n",
    "    else:\n",
    "        country = element.find('name').text\n",
    "    if element.find('infant_mortality') is None:\n",
    "        infmort = pd.np.nan\n",
    "    else:\n",
    "        infmort = element.find('infant_mortality').text\n",
    "    data.append((country,infmort))\n",
    "df = pd.DataFrame(data,columns=['country','infant_mortality'])"
   ]
  },
  {
   "cell_type": "code",
   "execution_count": 8,
   "metadata": {
    "collapsed": false
   },
   "outputs": [
    {
     "data": {
      "text/html": [
       "<div>\n",
       "<table border=\"1\" class=\"dataframe\">\n",
       "  <thead>\n",
       "    <tr style=\"text-align: right;\">\n",
       "      <th></th>\n",
       "      <th>country</th>\n",
       "      <th>infant_mortality</th>\n",
       "    </tr>\n",
       "  </thead>\n",
       "  <tbody>\n",
       "    <tr>\n",
       "      <th>38</th>\n",
       "      <td>Monaco</td>\n",
       "      <td>1.81</td>\n",
       "    </tr>\n",
       "    <tr>\n",
       "      <th>30</th>\n",
       "      <td>Romania</td>\n",
       "      <td>10.16</td>\n",
       "    </tr>\n",
       "    <tr>\n",
       "      <th>153</th>\n",
       "      <td>Fiji</td>\n",
       "      <td>10.2</td>\n",
       "    </tr>\n",
       "    <tr>\n",
       "      <th>69</th>\n",
       "      <td>Brunei</td>\n",
       "      <td>10.48</td>\n",
       "    </tr>\n",
       "    <tr>\n",
       "      <th>132</th>\n",
       "      <td>Grenada</td>\n",
       "      <td>10.5</td>\n",
       "    </tr>\n",
       "    <tr>\n",
       "      <th>237</th>\n",
       "      <td>Mauritius</td>\n",
       "      <td>10.59</td>\n",
       "    </tr>\n",
       "    <tr>\n",
       "      <th>124</th>\n",
       "      <td>Panama</td>\n",
       "      <td>10.7</td>\n",
       "    </tr>\n",
       "    <tr>\n",
       "      <th>243</th>\n",
       "      <td>Seychelles</td>\n",
       "      <td>10.77</td>\n",
       "    </tr>\n",
       "    <tr>\n",
       "      <th>102</th>\n",
       "      <td>United Arab Emirates</td>\n",
       "      <td>10.92</td>\n",
       "    </tr>\n",
       "    <tr>\n",
       "      <th>113</th>\n",
       "      <td>Barbados</td>\n",
       "      <td>10.93</td>\n",
       "    </tr>\n",
       "  </tbody>\n",
       "</table>\n",
       "</div>"
      ],
      "text/plain": [
       "                  country infant_mortality\n",
       "38                 Monaco             1.81\n",
       "30                Romania            10.16\n",
       "153                  Fiji             10.2\n",
       "69                 Brunei            10.48\n",
       "132               Grenada             10.5\n",
       "237             Mauritius            10.59\n",
       "124                Panama             10.7\n",
       "243            Seychelles            10.77\n",
       "102  United Arab Emirates            10.92\n",
       "113              Barbados            10.93"
      ]
     },
     "execution_count": 8,
     "metadata": {},
     "output_type": "execute_result"
    }
   ],
   "source": [
    "df.sort_values('infant_mortality',ascending=True).head(10)"
   ]
  },
  {
   "cell_type": "markdown",
   "metadata": {},
   "source": [
    "### 10 cities with the largest population"
   ]
  },
  {
   "cell_type": "markdown",
   "metadata": {},
   "source": [
    "looking at the structure, the city tags are under the country labels, and population is a child of the cities. The data provides population as a function of time. I will step through the tree and pull out cities and all populations for various years into a structured variable, which can then be read into a DataFrame, so that easy sorting can be done.\n",
    "\n",
    "The question just asks, what are the 10 cities with the largest population; I could interpret cities and year to be a unique key, meaning Paris in 1990 is a different city from Paris in 2000, for unique cities for the latest year, or for unique cities irrespective of year. I will provide answers to all of these interpretations."
   ]
  },
  {
   "cell_type": "code",
   "execution_count": 9,
   "metadata": {
    "collapsed": true
   },
   "outputs": [],
   "source": [
    "# create list of tuples of country, city, population, and year.\n",
    "data = []\n",
    "for element in document.iterfind('country'):\n",
    "    if element.find('name') is None:        \n",
    "        country = ''\n",
    "    else:\n",
    "        country = element.find('name').text\n",
    "    for subelem in element.iterfind('city'):\n",
    "        if subelem.find('name') is None:\n",
    "            city = ''\n",
    "        else:\n",
    "            city = subelem.find('name').text\n",
    "        for child in subelem.iterfind('population'):\n",
    "            year = child.get('year')\n",
    "            pop = child.text\n",
    "            data.append((country,city,year,pop))\n",
    "df = pd.DataFrame(data,columns=['country','city','year','population'])"
   ]
  },
  {
   "cell_type": "code",
   "execution_count": 10,
   "metadata": {
    "collapsed": false
   },
   "outputs": [
    {
     "data": {
      "text/plain": [
       "country       object\n",
       "city          object\n",
       "year          object\n",
       "population    object\n",
       "dtype: object"
      ]
     },
     "execution_count": 10,
     "metadata": {},
     "output_type": "execute_result"
    }
   ],
   "source": [
    "df.dtypes"
   ]
  },
  {
   "cell_type": "code",
   "execution_count": 11,
   "metadata": {
    "collapsed": true
   },
   "outputs": [],
   "source": [
    "df.year = pd.to_numeric(df.year,errors='coerce')\n",
    "df.population = pd.to_numeric(df.population,errors='coerce')"
   ]
  },
  {
   "cell_type": "code",
   "execution_count": 12,
   "metadata": {
    "collapsed": false
   },
   "outputs": [
    {
     "data": {
      "text/html": [
       "<div>\n",
       "<table border=\"1\" class=\"dataframe\">\n",
       "  <thead>\n",
       "    <tr style=\"text-align: right;\">\n",
       "      <th></th>\n",
       "      <th>country</th>\n",
       "      <th>city</th>\n",
       "      <th>year</th>\n",
       "      <th>population</th>\n",
       "    </tr>\n",
       "  </thead>\n",
       "  <tbody>\n",
       "    <tr>\n",
       "      <th>430</th>\n",
       "      <td>South Korea</td>\n",
       "      <td>Seoul</td>\n",
       "      <td>1995</td>\n",
       "      <td>10229262</td>\n",
       "    </tr>\n",
       "    <tr>\n",
       "      <th>431</th>\n",
       "      <td>South Korea</td>\n",
       "      <td>Seoul</td>\n",
       "      <td>2000</td>\n",
       "      <td>9895217</td>\n",
       "    </tr>\n",
       "    <tr>\n",
       "      <th>432</th>\n",
       "      <td>South Korea</td>\n",
       "      <td>Seoul</td>\n",
       "      <td>2005</td>\n",
       "      <td>9820171</td>\n",
       "    </tr>\n",
       "    <tr>\n",
       "      <th>433</th>\n",
       "      <td>South Korea</td>\n",
       "      <td>Seoul</td>\n",
       "      <td>2010</td>\n",
       "      <td>9708483</td>\n",
       "    </tr>\n",
       "    <tr>\n",
       "      <th>412</th>\n",
       "      <td>Egypt</td>\n",
       "      <td>Al Qahirah</td>\n",
       "      <td>2006</td>\n",
       "      <td>8471859</td>\n",
       "    </tr>\n",
       "    <tr>\n",
       "      <th>204</th>\n",
       "      <td>Thailand</td>\n",
       "      <td>Bangkok</td>\n",
       "      <td>1999</td>\n",
       "      <td>7506700</td>\n",
       "    </tr>\n",
       "    <tr>\n",
       "      <th>322</th>\n",
       "      <td>Hong Kong</td>\n",
       "      <td>Hong Kong</td>\n",
       "      <td>2009</td>\n",
       "      <td>7055071</td>\n",
       "    </tr>\n",
       "    <tr>\n",
       "      <th>411</th>\n",
       "      <td>Egypt</td>\n",
       "      <td>Al Qahirah</td>\n",
       "      <td>1996</td>\n",
       "      <td>6801931</td>\n",
       "    </tr>\n",
       "    <tr>\n",
       "      <th>410</th>\n",
       "      <td>Egypt</td>\n",
       "      <td>Al Qahirah</td>\n",
       "      <td>1986</td>\n",
       "      <td>6053000</td>\n",
       "    </tr>\n",
       "    <tr>\n",
       "      <th>229</th>\n",
       "      <td>Vietnam</td>\n",
       "      <td>Ho Chi Minh</td>\n",
       "      <td>2009</td>\n",
       "      <td>5968384</td>\n",
       "    </tr>\n",
       "  </tbody>\n",
       "</table>\n",
       "</div>"
      ],
      "text/plain": [
       "         country         city  year  population\n",
       "430  South Korea        Seoul  1995    10229262\n",
       "431  South Korea        Seoul  2000     9895217\n",
       "432  South Korea        Seoul  2005     9820171\n",
       "433  South Korea        Seoul  2010     9708483\n",
       "412        Egypt   Al Qahirah  2006     8471859\n",
       "204     Thailand      Bangkok  1999     7506700\n",
       "322    Hong Kong    Hong Kong  2009     7055071\n",
       "411        Egypt   Al Qahirah  1996     6801931\n",
       "410        Egypt   Al Qahirah  1986     6053000\n",
       "229      Vietnam  Ho Chi Minh  2009     5968384"
      ]
     },
     "execution_count": 12,
     "metadata": {},
     "output_type": "execute_result"
    }
   ],
   "source": [
    "# top 10 largest cities in time\n",
    "df.sort_values(['population'],ascending=False).head(10)"
   ]
  },
  {
   "cell_type": "code",
   "execution_count": 13,
   "metadata": {
    "collapsed": false
   },
   "outputs": [
    {
     "data": {
      "text/html": [
       "<div>\n",
       "<table border=\"1\" class=\"dataframe\">\n",
       "  <thead>\n",
       "    <tr style=\"text-align: right;\">\n",
       "      <th></th>\n",
       "      <th>country</th>\n",
       "      <th>city</th>\n",
       "      <th>year</th>\n",
       "      <th>population</th>\n",
       "    </tr>\n",
       "  </thead>\n",
       "  <tbody>\n",
       "    <tr>\n",
       "      <th>433</th>\n",
       "      <td>South Korea</td>\n",
       "      <td>Seoul</td>\n",
       "      <td>2010</td>\n",
       "      <td>9708483</td>\n",
       "    </tr>\n",
       "    <tr>\n",
       "      <th>412</th>\n",
       "      <td>Egypt</td>\n",
       "      <td>Al Qahirah</td>\n",
       "      <td>2006</td>\n",
       "      <td>8471859</td>\n",
       "    </tr>\n",
       "    <tr>\n",
       "      <th>204</th>\n",
       "      <td>Thailand</td>\n",
       "      <td>Bangkok</td>\n",
       "      <td>1999</td>\n",
       "      <td>7506700</td>\n",
       "    </tr>\n",
       "    <tr>\n",
       "      <th>322</th>\n",
       "      <td>Hong Kong</td>\n",
       "      <td>Hong Kong</td>\n",
       "      <td>2009</td>\n",
       "      <td>7055071</td>\n",
       "    </tr>\n",
       "    <tr>\n",
       "      <th>229</th>\n",
       "      <td>Vietnam</td>\n",
       "      <td>Ho Chi Minh</td>\n",
       "      <td>2009</td>\n",
       "      <td>5968384</td>\n",
       "    </tr>\n",
       "    <tr>\n",
       "      <th>554</th>\n",
       "      <td>Singapore</td>\n",
       "      <td>Singapore</td>\n",
       "      <td>2010</td>\n",
       "      <td>5076700</td>\n",
       "    </tr>\n",
       "    <tr>\n",
       "      <th>409</th>\n",
       "      <td>Egypt</td>\n",
       "      <td>Al Iskandariyah</td>\n",
       "      <td>2006</td>\n",
       "      <td>4123869</td>\n",
       "    </tr>\n",
       "    <tr>\n",
       "      <th>566</th>\n",
       "      <td>Taiwan</td>\n",
       "      <td>New Taipei</td>\n",
       "      <td>2012</td>\n",
       "      <td>3939305</td>\n",
       "    </tr>\n",
       "    <tr>\n",
       "      <th>437</th>\n",
       "      <td>South Korea</td>\n",
       "      <td>Busan</td>\n",
       "      <td>2010</td>\n",
       "      <td>3403135</td>\n",
       "    </tr>\n",
       "    <tr>\n",
       "      <th>270</th>\n",
       "      <td>North Korea</td>\n",
       "      <td>Pyongyang</td>\n",
       "      <td>2008</td>\n",
       "      <td>3255288</td>\n",
       "    </tr>\n",
       "  </tbody>\n",
       "</table>\n",
       "</div>"
      ],
      "text/plain": [
       "         country             city  year  population\n",
       "433  South Korea            Seoul  2010     9708483\n",
       "412        Egypt       Al Qahirah  2006     8471859\n",
       "204     Thailand          Bangkok  1999     7506700\n",
       "322    Hong Kong        Hong Kong  2009     7055071\n",
       "229      Vietnam      Ho Chi Minh  2009     5968384\n",
       "554    Singapore        Singapore  2010     5076700\n",
       "409        Egypt  Al Iskandariyah  2006     4123869\n",
       "566       Taiwan       New Taipei  2012     3939305\n",
       "437  South Korea            Busan  2010     3403135\n",
       "270  North Korea        Pyongyang  2008     3255288"
      ]
     },
     "execution_count": 13,
     "metadata": {},
     "output_type": "execute_result"
    }
   ],
   "source": [
    "# top 10 largest cities for latest year\n",
    "df.sort_values(['city','year'],ascending=False).\\\n",
    "    drop_duplicates(subset='city').\\\n",
    "    sort_values('population',ascending=False).head(10)"
   ]
  },
  {
   "cell_type": "code",
   "execution_count": 14,
   "metadata": {
    "collapsed": false
   },
   "outputs": [
    {
     "data": {
      "text/html": [
       "<div>\n",
       "<table border=\"1\" class=\"dataframe\">\n",
       "  <thead>\n",
       "    <tr style=\"text-align: right;\">\n",
       "      <th></th>\n",
       "      <th>country</th>\n",
       "      <th>city</th>\n",
       "      <th>year</th>\n",
       "      <th>population</th>\n",
       "    </tr>\n",
       "  </thead>\n",
       "  <tbody>\n",
       "    <tr>\n",
       "      <th>430</th>\n",
       "      <td>South Korea</td>\n",
       "      <td>Seoul</td>\n",
       "      <td>1995</td>\n",
       "      <td>10229262</td>\n",
       "    </tr>\n",
       "    <tr>\n",
       "      <th>412</th>\n",
       "      <td>Egypt</td>\n",
       "      <td>Al Qahirah</td>\n",
       "      <td>2006</td>\n",
       "      <td>8471859</td>\n",
       "    </tr>\n",
       "    <tr>\n",
       "      <th>204</th>\n",
       "      <td>Thailand</td>\n",
       "      <td>Bangkok</td>\n",
       "      <td>1999</td>\n",
       "      <td>7506700</td>\n",
       "    </tr>\n",
       "    <tr>\n",
       "      <th>322</th>\n",
       "      <td>Hong Kong</td>\n",
       "      <td>Hong Kong</td>\n",
       "      <td>2009</td>\n",
       "      <td>7055071</td>\n",
       "    </tr>\n",
       "    <tr>\n",
       "      <th>229</th>\n",
       "      <td>Vietnam</td>\n",
       "      <td>Ho Chi Minh</td>\n",
       "      <td>2009</td>\n",
       "      <td>5968384</td>\n",
       "    </tr>\n",
       "    <tr>\n",
       "      <th>554</th>\n",
       "      <td>Singapore</td>\n",
       "      <td>Singapore</td>\n",
       "      <td>2010</td>\n",
       "      <td>5076700</td>\n",
       "    </tr>\n",
       "    <tr>\n",
       "      <th>409</th>\n",
       "      <td>Egypt</td>\n",
       "      <td>Al Iskandariyah</td>\n",
       "      <td>2006</td>\n",
       "      <td>4123869</td>\n",
       "    </tr>\n",
       "    <tr>\n",
       "      <th>566</th>\n",
       "      <td>Taiwan</td>\n",
       "      <td>New Taipei</td>\n",
       "      <td>2012</td>\n",
       "      <td>3939305</td>\n",
       "    </tr>\n",
       "    <tr>\n",
       "      <th>434</th>\n",
       "      <td>South Korea</td>\n",
       "      <td>Busan</td>\n",
       "      <td>1995</td>\n",
       "      <td>3813814</td>\n",
       "    </tr>\n",
       "    <tr>\n",
       "      <th>270</th>\n",
       "      <td>North Korea</td>\n",
       "      <td>Pyongyang</td>\n",
       "      <td>2008</td>\n",
       "      <td>3255288</td>\n",
       "    </tr>\n",
       "  </tbody>\n",
       "</table>\n",
       "</div>"
      ],
      "text/plain": [
       "         country             city  year  population\n",
       "430  South Korea            Seoul  1995    10229262\n",
       "412        Egypt       Al Qahirah  2006     8471859\n",
       "204     Thailand          Bangkok  1999     7506700\n",
       "322    Hong Kong        Hong Kong  2009     7055071\n",
       "229      Vietnam      Ho Chi Minh  2009     5968384\n",
       "554    Singapore        Singapore  2010     5076700\n",
       "409        Egypt  Al Iskandariyah  2006     4123869\n",
       "566       Taiwan       New Taipei  2012     3939305\n",
       "434  South Korea            Busan  1995     3813814\n",
       "270  North Korea        Pyongyang  2008     3255288"
      ]
     },
     "execution_count": 14,
     "metadata": {},
     "output_type": "execute_result"
    }
   ],
   "source": [
    "# top 10 largest cities irrespective of year\n",
    "df.sort_values(['city','population'],ascending=False).\\\n",
    "    drop_duplicates(subset='city').\\\n",
    "    sort_values('population',ascending=False).head(10)"
   ]
  },
  {
   "cell_type": "markdown",
   "metadata": {},
   "source": [
    "### 10 ethnic groups with the largest overall populations (sum of best/latest estimates over all countries)"
   ]
  },
  {
   "cell_type": "markdown",
   "metadata": {},
   "source": [
    "looking at the structure, the ethnicgroup tags are under the country labels and provides a percentage of the total population. Population is also under the country labels, and is a function of time. I will step through the tree and pull out country, pick out the population for the latest year, and the ethnic groups, and write the country, year, ethnic group, and calculated group population into a structured variable. This can then be read into a DataFrame, so that easy sorting can be done."
   ]
  },
  {
   "cell_type": "code",
   "execution_count": 15,
   "metadata": {
    "collapsed": true
   },
   "outputs": [],
   "source": [
    "# create list of tuples of country, population*percentage, \n",
    "# year, and ethnic group.\n",
    "data = []\n",
    "for element in document.iterfind('country'):\n",
    "    year=0\n",
    "    totalpop=0\n",
    "    if element.find('name') is None:        \n",
    "        country = ''\n",
    "    else:\n",
    "        country = element.find('name').text\n",
    "    for subelem in element.iterfind('population'):\n",
    "        thisyear = int(subelem.get('year'))\n",
    "        thispop = int(subelem.text)\n",
    "        if thisyear > year:\n",
    "            year = thisyear\n",
    "            totalpop = thispop\n",
    "    for subelem in element.iterfind('ethnicgroup'):\n",
    "        pop = float(subelem.get('percentage'))/100*totalpop\n",
    "        group = subelem.text\n",
    "        data.append((country,group,pop))\n",
    "df = pd.DataFrame(data,columns=['country','ethnicgroup','population'])"
   ]
  },
  {
   "cell_type": "code",
   "execution_count": 16,
   "metadata": {
    "collapsed": false
   },
   "outputs": [
    {
     "data": {
      "text/html": [
       "<div>\n",
       "<table border=\"1\" class=\"dataframe\">\n",
       "  <thead>\n",
       "    <tr style=\"text-align: right;\">\n",
       "      <th></th>\n",
       "      <th>country</th>\n",
       "      <th>ethnicgroup</th>\n",
       "      <th>population</th>\n",
       "    </tr>\n",
       "  </thead>\n",
       "  <tbody>\n",
       "    <tr>\n",
       "      <th>0</th>\n",
       "      <td>Albania</td>\n",
       "      <td>Albanian</td>\n",
       "      <td>2.660131e+06</td>\n",
       "    </tr>\n",
       "    <tr>\n",
       "      <th>1</th>\n",
       "      <td>Albania</td>\n",
       "      <td>Greek</td>\n",
       "      <td>8.400414e+04</td>\n",
       "    </tr>\n",
       "    <tr>\n",
       "      <th>2</th>\n",
       "      <td>Greece</td>\n",
       "      <td>Greek</td>\n",
       "      <td>1.005915e+07</td>\n",
       "    </tr>\n",
       "    <tr>\n",
       "      <th>3</th>\n",
       "      <td>Macedonia</td>\n",
       "      <td>Macedonian</td>\n",
       "      <td>1.322388e+06</td>\n",
       "    </tr>\n",
       "    <tr>\n",
       "      <th>4</th>\n",
       "      <td>Macedonia</td>\n",
       "      <td>Albanian</td>\n",
       "      <td>5.190681e+05</td>\n",
       "    </tr>\n",
       "  </tbody>\n",
       "</table>\n",
       "</div>"
      ],
      "text/plain": [
       "     country ethnicgroup    population\n",
       "0    Albania    Albanian  2.660131e+06\n",
       "1    Albania       Greek  8.400414e+04\n",
       "2     Greece       Greek  1.005915e+07\n",
       "3  Macedonia  Macedonian  1.322388e+06\n",
       "4  Macedonia    Albanian  5.190681e+05"
      ]
     },
     "execution_count": 16,
     "metadata": {},
     "output_type": "execute_result"
    }
   ],
   "source": [
    "df.head()"
   ]
  },
  {
   "cell_type": "code",
   "execution_count": 17,
   "metadata": {
    "collapsed": false
   },
   "outputs": [
    {
     "data": {
      "text/html": [
       "<div>\n",
       "<table border=\"1\" class=\"dataframe\">\n",
       "  <thead>\n",
       "    <tr style=\"text-align: right;\">\n",
       "      <th></th>\n",
       "      <th>population</th>\n",
       "    </tr>\n",
       "    <tr>\n",
       "      <th>ethnicgroup</th>\n",
       "      <th></th>\n",
       "    </tr>\n",
       "  </thead>\n",
       "  <tbody>\n",
       "    <tr>\n",
       "      <th>Han Chinese</th>\n",
       "      <td>1.245059e+09</td>\n",
       "    </tr>\n",
       "    <tr>\n",
       "      <th>Indo-Aryan</th>\n",
       "      <td>8.718156e+08</td>\n",
       "    </tr>\n",
       "    <tr>\n",
       "      <th>European</th>\n",
       "      <td>4.948722e+08</td>\n",
       "    </tr>\n",
       "    <tr>\n",
       "      <th>African</th>\n",
       "      <td>3.183251e+08</td>\n",
       "    </tr>\n",
       "    <tr>\n",
       "      <th>Dravidian</th>\n",
       "      <td>3.027137e+08</td>\n",
       "    </tr>\n",
       "    <tr>\n",
       "      <th>Mestizo</th>\n",
       "      <td>1.577344e+08</td>\n",
       "    </tr>\n",
       "    <tr>\n",
       "      <th>Bengali</th>\n",
       "      <td>1.467769e+08</td>\n",
       "    </tr>\n",
       "    <tr>\n",
       "      <th>Russian</th>\n",
       "      <td>1.318570e+08</td>\n",
       "    </tr>\n",
       "    <tr>\n",
       "      <th>Japanese</th>\n",
       "      <td>1.265342e+08</td>\n",
       "    </tr>\n",
       "    <tr>\n",
       "      <th>Malay</th>\n",
       "      <td>1.219936e+08</td>\n",
       "    </tr>\n",
       "  </tbody>\n",
       "</table>\n",
       "</div>"
      ],
      "text/plain": [
       "               population\n",
       "ethnicgroup              \n",
       "Han Chinese  1.245059e+09\n",
       "Indo-Aryan   8.718156e+08\n",
       "European     4.948722e+08\n",
       "African      3.183251e+08\n",
       "Dravidian    3.027137e+08\n",
       "Mestizo      1.577344e+08\n",
       "Bengali      1.467769e+08\n",
       "Russian      1.318570e+08\n",
       "Japanese     1.265342e+08\n",
       "Malay        1.219936e+08"
      ]
     },
     "execution_count": 17,
     "metadata": {},
     "output_type": "execute_result"
    }
   ],
   "source": [
    "# top 10 ethnic groups\n",
    "df.groupby('ethnicgroup').sum().sort_values('population',ascending=False).head(10)"
   ]
  },
  {
   "cell_type": "markdown",
   "metadata": {},
   "source": [
    "### name and country of a) longest river, b) largest lake and c) airport at highest elevation"
   ]
  },
  {
   "cell_type": "markdown",
   "metadata": {},
   "source": [
    "Where in the xml are the rivers, lakes, and airports?"
   ]
  },
  {
   "cell_type": "code",
   "execution_count": 18,
   "metadata": {
    "collapsed": false
   },
   "outputs": [
    {
     "data": {
      "text/plain": [
       "{'airport',\n",
       " 'continent',\n",
       " 'country',\n",
       " 'desert',\n",
       " 'island',\n",
       " 'lake',\n",
       " 'mountain',\n",
       " 'organization',\n",
       " 'river',\n",
       " 'sea'}"
      ]
     },
     "execution_count": 18,
     "metadata": {},
     "output_type": "execute_result"
    }
   ],
   "source": [
    "# do they exist as tags in the document?\n",
    "root = document.getroot() \n",
    "alltags = []\n",
    "for child in root:\n",
    "    alltags.append(child.tag)\n",
    "set(alltags)"
   ]
  },
  {
   "cell_type": "markdown",
   "metadata": {},
   "source": [
    "These features are listed at the same level as the countries. Get example of each one to see structure."
   ]
  },
  {
   "cell_type": "code",
   "execution_count": 19,
   "metadata": {
    "collapsed": false
   },
   "outputs": [
    {
     "data": {
      "text/plain": [
       "b'<river country=\"IS\" id=\"river-Thjorsa\">\\n      <name>Thjorsa</name>\\n      <to water=\"sea-Atlantic\" watertype=\"sea\" />\\n      <area>7530</area>\\n      <length>230</length>\\n      <source country=\"IS\">\\n         <latitude>65</latitude>\\n         <longitude>-18</longitude>\\n      </source>\\n      <estuary country=\"IS\">\\n         <latitude>63.9</latitude>\\n         <longitude>-20.8</longitude>\\n      </estuary>\\n   </river>\\n   '"
      ]
     },
     "execution_count": 19,
     "metadata": {},
     "output_type": "execute_result"
    }
   ],
   "source": [
    "elem = document.find('river')\n",
    "ET.tostring(elem)"
   ]
  },
  {
   "cell_type": "code",
   "execution_count": 20,
   "metadata": {
    "collapsed": false
   },
   "outputs": [
    {
     "data": {
      "text/plain": [
       "b'<lake country=\"SF\" id=\"lake-Inarisee\">\\n      <name>Inari</name>\\n      <located country=\"SF\" province=\"lteil-LAP-SF\" />\\n      <to water=\"river-Paatsjoki\" watertype=\"river\" />\\n      <area>1040</area>\\n      <latitude>68.95</latitude>\\n      <longitude>27.7</longitude>\\n      <elevation>119</elevation>\\n      <depth>92</depth>\\n   </lake>\\n   '"
      ]
     },
     "execution_count": 20,
     "metadata": {},
     "output_type": "execute_result"
    }
   ],
   "source": [
    "elem = document.find('lake')\n",
    "ET.tostring(elem)"
   ]
  },
  {
   "cell_type": "code",
   "execution_count": 21,
   "metadata": {
    "collapsed": false
   },
   "outputs": [
    {
     "data": {
      "text/plain": [
       "b'<airport city=\"cty-Afghanistan-2\" country=\"AFG\" iatacode=\"HEA\">\\n      <name>Herat</name>\\n      <latitude>34.210017</latitude>\\n      <longitude>62.2283</longitude>\\n      <elevation>977</elevation>\\n      <gmtOffset>5</gmtOffset>\\n   </airport>\\n   '"
      ]
     },
     "execution_count": 21,
     "metadata": {},
     "output_type": "execute_result"
    }
   ],
   "source": [
    "elem = document.find('airport')\n",
    "ET.tostring(elem)"
   ]
  },
  {
   "cell_type": "markdown",
   "metadata": {},
   "source": [
    "Country information is listed as an attribute, in the form of country code. This requires a mapping from country code to country. for task a) \"length\" is a child of \"river\". I will pull out a list of names of rivers, country, and length, b) \"area\" is a child of \"lake\". I will pull out a list of names of lakes, country, and area, and c) \"elevation\" is a child of \"airport\". I will pull out a list of names of airports, country, and elevation. "
   ]
  },
  {
   "cell_type": "code",
   "execution_count": 22,
   "metadata": {
    "collapsed": false
   },
   "outputs": [],
   "source": [
    "#pull out country data for mapping country name to code\n",
    "data = []\n",
    "for element in document.iterfind('country'):\n",
    "    if element.find('name') is not None:        \n",
    "        country = element.find('name').text\n",
    "        code = element.get('car_code')\n",
    "        data.append((code,country))\n",
    "country_mapping = dict(data)"
   ]
  },
  {
   "cell_type": "markdown",
   "metadata": {},
   "source": [
    "#### country and name of longest river"
   ]
  },
  {
   "cell_type": "code",
   "execution_count": 23,
   "metadata": {
    "collapsed": false
   },
   "outputs": [],
   "source": [
    "# create list of tuples of river, country, and length\n",
    "# country attribute may list all relevant country codes separated by space\n",
    "data = []\n",
    "for element in document.iterfind('river'):\n",
    "    if element.find('name') is not None:        \n",
    "        river = element.find('name').text\n",
    "        if element.find('length') is not None:\n",
    "            length = element.find('length').text\n",
    "            codes = element.get('country')\n",
    "            for code in codes.split(' '):\n",
    "                data.append((river,country_mapping[code],length))\n",
    "df = pd.DataFrame(data,columns=['river','country','length'])\n",
    "\n",
    "df.length = pd.to_numeric(df.length, errors='coerce')"
   ]
  },
  {
   "cell_type": "code",
   "execution_count": 24,
   "metadata": {
    "collapsed": false
   },
   "outputs": [
    {
     "data": {
      "text/html": [
       "<div>\n",
       "<table border=\"1\" class=\"dataframe\">\n",
       "  <thead>\n",
       "    <tr style=\"text-align: right;\">\n",
       "      <th></th>\n",
       "      <th>river</th>\n",
       "      <th>country</th>\n",
       "      <th>length</th>\n",
       "    </tr>\n",
       "  </thead>\n",
       "  <tbody>\n",
       "    <tr>\n",
       "      <th>300</th>\n",
       "      <td>Amazonas</td>\n",
       "      <td>Peru</td>\n",
       "      <td>6448.0</td>\n",
       "    </tr>\n",
       "  </tbody>\n",
       "</table>\n",
       "</div>"
      ],
      "text/plain": [
       "        river country  length\n",
       "300  Amazonas    Peru  6448.0"
      ]
     },
     "execution_count": 24,
     "metadata": {},
     "output_type": "execute_result"
    }
   ],
   "source": [
    "df.sort_values('length',ascending=False).head(1)"
   ]
  },
  {
   "cell_type": "markdown",
   "metadata": {},
   "source": [
    "#### name and country of largest lake"
   ]
  },
  {
   "cell_type": "code",
   "execution_count": 25,
   "metadata": {
    "collapsed": true
   },
   "outputs": [],
   "source": [
    "# create list of tuples of lake, country, and area\n",
    "# country attribute may list all relevant country codes separated by space\n",
    "data = []\n",
    "for element in document.iterfind('lake'):\n",
    "    if element.find('name') is not None:        \n",
    "        obj = element.find('name').text\n",
    "        if element.find('area') is not None:\n",
    "            meas = element.find('area').text\n",
    "            codes = element.get('country')\n",
    "            for code in codes.split(' '):\n",
    "                data.append((obj,country_mapping[code],meas))\n",
    "df = pd.DataFrame(data,columns=['lake','country','area'])\n",
    "\n",
    "df.area = pd.to_numeric(df.area, errors='coerce')"
   ]
  },
  {
   "cell_type": "code",
   "execution_count": 26,
   "metadata": {
    "collapsed": false
   },
   "outputs": [
    {
     "data": {
      "text/html": [
       "<div>\n",
       "<table border=\"1\" class=\"dataframe\">\n",
       "  <thead>\n",
       "    <tr style=\"text-align: right;\">\n",
       "      <th></th>\n",
       "      <th>lake</th>\n",
       "      <th>country</th>\n",
       "      <th>area</th>\n",
       "    </tr>\n",
       "  </thead>\n",
       "  <tbody>\n",
       "    <tr>\n",
       "      <th>68</th>\n",
       "      <td>Caspian Sea</td>\n",
       "      <td>Russia</td>\n",
       "      <td>386400.0</td>\n",
       "    </tr>\n",
       "  </tbody>\n",
       "</table>\n",
       "</div>"
      ],
      "text/plain": [
       "           lake country      area\n",
       "68  Caspian Sea  Russia  386400.0"
      ]
     },
     "execution_count": 26,
     "metadata": {},
     "output_type": "execute_result"
    }
   ],
   "source": [
    "df.sort_values('area',ascending=False).head(1)"
   ]
  },
  {
   "cell_type": "markdown",
   "metadata": {},
   "source": [
    "#### name and country of airport at highest elevation"
   ]
  },
  {
   "cell_type": "code",
   "execution_count": 27,
   "metadata": {
    "collapsed": true
   },
   "outputs": [],
   "source": [
    "# create list of tuples of airport, country, and elevation\n",
    "# country attribute may list all relevant country codes separated by space\n",
    "data = []\n",
    "for element in document.iterfind('airport'):\n",
    "    if element.find('name') is not None:        \n",
    "        obj = element.find('name').text\n",
    "        if element.find('elevation') is not None:\n",
    "            meas = element.find('elevation').text\n",
    "            codes = element.get('country')\n",
    "            for code in codes.split(' '):\n",
    "                data.append((obj,country_mapping[code],meas))\n",
    "df = pd.DataFrame(data,columns=['airport','country','elevation'])\n",
    "\n",
    "df.elevation = pd.to_numeric(df.elevation, errors='coerce')"
   ]
  },
  {
   "cell_type": "code",
   "execution_count": 28,
   "metadata": {
    "collapsed": false
   },
   "outputs": [
    {
     "data": {
      "text/html": [
       "<div>\n",
       "<table border=\"1\" class=\"dataframe\">\n",
       "  <thead>\n",
       "    <tr style=\"text-align: right;\">\n",
       "      <th></th>\n",
       "      <th>airport</th>\n",
       "      <th>country</th>\n",
       "      <th>elevation</th>\n",
       "    </tr>\n",
       "  </thead>\n",
       "  <tbody>\n",
       "    <tr>\n",
       "      <th>80</th>\n",
       "      <td>El Alto Intl</td>\n",
       "      <td>Bolivia</td>\n",
       "      <td>4063.0</td>\n",
       "    </tr>\n",
       "  </tbody>\n",
       "</table>\n",
       "</div>"
      ],
      "text/plain": [
       "         airport  country  elevation\n",
       "80  El Alto Intl  Bolivia     4063.0"
      ]
     },
     "execution_count": 28,
     "metadata": {},
     "output_type": "execute_result"
    }
   ],
   "source": [
    "df.sort_values('elevation',ascending=False).head(1)"
   ]
  },
  {
   "cell_type": "code",
   "execution_count": null,
   "metadata": {
    "collapsed": true
   },
   "outputs": [],
   "source": []
  }
 ],
 "metadata": {
  "kernelspec": {
   "display_name": "Python 3",
   "language": "python",
   "name": "python3"
  },
  "language_info": {
   "codemirror_mode": {
    "name": "ipython",
    "version": 3
   },
   "file_extension": ".py",
   "mimetype": "text/x-python",
   "name": "python",
   "nbconvert_exporter": "python",
   "pygments_lexer": "ipython3",
   "version": "3.5.2"
  }
 },
 "nbformat": 4,
 "nbformat_minor": 0
}
